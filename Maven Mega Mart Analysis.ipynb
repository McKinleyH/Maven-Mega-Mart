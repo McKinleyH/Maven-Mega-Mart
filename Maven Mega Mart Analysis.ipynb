{
 "cells": [
  {
   "cell_type": "markdown",
   "id": "e6bd69f2",
   "metadata": {},
   "source": [
    "# Maven Mega Mart Analysis"
   ]
  },
  {
   "cell_type": "markdown",
   "id": "d745296e",
   "metadata": {},
   "source": [
    "### Import Libraries and Data"
   ]
  },
  {
   "cell_type": "code",
   "execution_count": 42,
   "id": "048c011c",
   "metadata": {},
   "outputs": [],
   "source": [
    "import pandas as pd\n",
    "import numpy as np\n",
    "\n",
    "import matplotlib.pyplot as plt\n",
    "import seaborn as sns\n",
    "\n"
   ]
  },
  {
   "cell_type": "code",
   "execution_count": 43,
   "id": "7c91f1cd",
   "metadata": {},
   "outputs": [],
   "source": [
    "# for editing font\n",
    "class color:\n",
    "    BOLD = '\\033[1m'\n",
    "    END = '\\033[0m'"
   ]
  },
  {
   "cell_type": "code",
   "execution_count": 44,
   "id": "c019ac8e",
   "metadata": {},
   "outputs": [],
   "source": [
    "#import data\n",
    "transactions = pd.read_csv(\"../course project datasets/project_transactions.csv\")\n",
    "\n",
    "df = transactions.copy()\n",
    "\n",
    "products = pd.read_csv(\"../course project datasets/product.csv\")\n",
    "\n",
    "df2 = products.copy()"
   ]
  },
  {
   "cell_type": "markdown",
   "id": "1bd82c31",
   "metadata": {},
   "source": [
    "### Data Exploration"
   ]
  },
  {
   "cell_type": "code",
   "execution_count": 45,
   "id": "20749686",
   "metadata": {},
   "outputs": [
    {
     "data": {
      "text/html": [
       "<div>\n",
       "<style scoped>\n",
       "    .dataframe tbody tr th:only-of-type {\n",
       "        vertical-align: middle;\n",
       "    }\n",
       "\n",
       "    .dataframe tbody tr th {\n",
       "        vertical-align: top;\n",
       "    }\n",
       "\n",
       "    .dataframe thead th {\n",
       "        text-align: right;\n",
       "    }\n",
       "</style>\n",
       "<table border=\"1\" class=\"dataframe\">\n",
       "  <thead>\n",
       "    <tr style=\"text-align: right;\">\n",
       "      <th></th>\n",
       "      <th>household_key</th>\n",
       "      <th>BASKET_ID</th>\n",
       "      <th>DAY</th>\n",
       "      <th>PRODUCT_ID</th>\n",
       "      <th>QUANTITY</th>\n",
       "      <th>SALES_VALUE</th>\n",
       "      <th>STORE_ID</th>\n",
       "      <th>RETAIL_DISC</th>\n",
       "      <th>WEEK_NO</th>\n",
       "      <th>COUPON_DISC</th>\n",
       "      <th>COUPON_MATCH_DISC</th>\n",
       "    </tr>\n",
       "  </thead>\n",
       "  <tbody>\n",
       "    <tr>\n",
       "      <th>0</th>\n",
       "      <td>1364</td>\n",
       "      <td>26984896261</td>\n",
       "      <td>1</td>\n",
       "      <td>842930</td>\n",
       "      <td>1</td>\n",
       "      <td>2.19</td>\n",
       "      <td>31742</td>\n",
       "      <td>0.00</td>\n",
       "      <td>1</td>\n",
       "      <td>0.0</td>\n",
       "      <td>0.0</td>\n",
       "    </tr>\n",
       "    <tr>\n",
       "      <th>1</th>\n",
       "      <td>1364</td>\n",
       "      <td>26984896261</td>\n",
       "      <td>1</td>\n",
       "      <td>897044</td>\n",
       "      <td>1</td>\n",
       "      <td>2.99</td>\n",
       "      <td>31742</td>\n",
       "      <td>-0.40</td>\n",
       "      <td>1</td>\n",
       "      <td>0.0</td>\n",
       "      <td>0.0</td>\n",
       "    </tr>\n",
       "    <tr>\n",
       "      <th>2</th>\n",
       "      <td>1364</td>\n",
       "      <td>26984896261</td>\n",
       "      <td>1</td>\n",
       "      <td>920955</td>\n",
       "      <td>1</td>\n",
       "      <td>3.09</td>\n",
       "      <td>31742</td>\n",
       "      <td>0.00</td>\n",
       "      <td>1</td>\n",
       "      <td>0.0</td>\n",
       "      <td>0.0</td>\n",
       "    </tr>\n",
       "    <tr>\n",
       "      <th>3</th>\n",
       "      <td>1364</td>\n",
       "      <td>26984896261</td>\n",
       "      <td>1</td>\n",
       "      <td>937406</td>\n",
       "      <td>1</td>\n",
       "      <td>2.50</td>\n",
       "      <td>31742</td>\n",
       "      <td>-0.99</td>\n",
       "      <td>1</td>\n",
       "      <td>0.0</td>\n",
       "      <td>0.0</td>\n",
       "    </tr>\n",
       "    <tr>\n",
       "      <th>4</th>\n",
       "      <td>1364</td>\n",
       "      <td>26984896261</td>\n",
       "      <td>1</td>\n",
       "      <td>981760</td>\n",
       "      <td>1</td>\n",
       "      <td>0.60</td>\n",
       "      <td>31742</td>\n",
       "      <td>-0.79</td>\n",
       "      <td>1</td>\n",
       "      <td>0.0</td>\n",
       "      <td>0.0</td>\n",
       "    </tr>\n",
       "  </tbody>\n",
       "</table>\n",
       "</div>"
      ],
      "text/plain": [
       "   household_key    BASKET_ID  DAY  PRODUCT_ID  QUANTITY  SALES_VALUE  \\\n",
       "0           1364  26984896261    1      842930         1         2.19   \n",
       "1           1364  26984896261    1      897044         1         2.99   \n",
       "2           1364  26984896261    1      920955         1         3.09   \n",
       "3           1364  26984896261    1      937406         1         2.50   \n",
       "4           1364  26984896261    1      981760         1         0.60   \n",
       "\n",
       "   STORE_ID  RETAIL_DISC  WEEK_NO  COUPON_DISC  COUPON_MATCH_DISC  \n",
       "0     31742         0.00        1          0.0                0.0  \n",
       "1     31742        -0.40        1          0.0                0.0  \n",
       "2     31742         0.00        1          0.0                0.0  \n",
       "3     31742        -0.99        1          0.0                0.0  \n",
       "4     31742        -0.79        1          0.0                0.0  "
      ]
     },
     "execution_count": 45,
     "metadata": {},
     "output_type": "execute_result"
    }
   ],
   "source": [
    "df.head() #check first five rows of data\n"
   ]
  },
  {
   "cell_type": "code",
   "execution_count": 46,
   "id": "2cdf8964",
   "metadata": {},
   "outputs": [
    {
     "data": {
      "text/html": [
       "<div>\n",
       "<style scoped>\n",
       "    .dataframe tbody tr th:only-of-type {\n",
       "        vertical-align: middle;\n",
       "    }\n",
       "\n",
       "    .dataframe tbody tr th {\n",
       "        vertical-align: top;\n",
       "    }\n",
       "\n",
       "    .dataframe thead th {\n",
       "        text-align: right;\n",
       "    }\n",
       "</style>\n",
       "<table border=\"1\" class=\"dataframe\">\n",
       "  <thead>\n",
       "    <tr style=\"text-align: right;\">\n",
       "      <th></th>\n",
       "      <th>household_key</th>\n",
       "      <th>BASKET_ID</th>\n",
       "      <th>DAY</th>\n",
       "      <th>PRODUCT_ID</th>\n",
       "      <th>QUANTITY</th>\n",
       "      <th>SALES_VALUE</th>\n",
       "      <th>STORE_ID</th>\n",
       "      <th>RETAIL_DISC</th>\n",
       "      <th>WEEK_NO</th>\n",
       "      <th>COUPON_DISC</th>\n",
       "      <th>COUPON_MATCH_DISC</th>\n",
       "    </tr>\n",
       "  </thead>\n",
       "  <tbody>\n",
       "    <tr>\n",
       "      <th>2146306</th>\n",
       "      <td>1598</td>\n",
       "      <td>42305362535</td>\n",
       "      <td>711</td>\n",
       "      <td>92130</td>\n",
       "      <td>1</td>\n",
       "      <td>0.99</td>\n",
       "      <td>3228</td>\n",
       "      <td>0.00</td>\n",
       "      <td>102</td>\n",
       "      <td>0.0</td>\n",
       "      <td>0.0</td>\n",
       "    </tr>\n",
       "    <tr>\n",
       "      <th>2146307</th>\n",
       "      <td>1598</td>\n",
       "      <td>42305362535</td>\n",
       "      <td>711</td>\n",
       "      <td>114102</td>\n",
       "      <td>1</td>\n",
       "      <td>8.89</td>\n",
       "      <td>3228</td>\n",
       "      <td>0.00</td>\n",
       "      <td>102</td>\n",
       "      <td>0.0</td>\n",
       "      <td>0.0</td>\n",
       "    </tr>\n",
       "    <tr>\n",
       "      <th>2146308</th>\n",
       "      <td>1598</td>\n",
       "      <td>42305362535</td>\n",
       "      <td>711</td>\n",
       "      <td>133449</td>\n",
       "      <td>1</td>\n",
       "      <td>6.99</td>\n",
       "      <td>3228</td>\n",
       "      <td>0.00</td>\n",
       "      <td>102</td>\n",
       "      <td>0.0</td>\n",
       "      <td>0.0</td>\n",
       "    </tr>\n",
       "    <tr>\n",
       "      <th>2146309</th>\n",
       "      <td>1598</td>\n",
       "      <td>42305362535</td>\n",
       "      <td>711</td>\n",
       "      <td>6923644</td>\n",
       "      <td>1</td>\n",
       "      <td>4.50</td>\n",
       "      <td>3228</td>\n",
       "      <td>-0.49</td>\n",
       "      <td>102</td>\n",
       "      <td>0.0</td>\n",
       "      <td>0.0</td>\n",
       "    </tr>\n",
       "    <tr>\n",
       "      <th>2146310</th>\n",
       "      <td>1598</td>\n",
       "      <td>42305362535</td>\n",
       "      <td>711</td>\n",
       "      <td>14055192</td>\n",
       "      <td>1</td>\n",
       "      <td>6.99</td>\n",
       "      <td>3228</td>\n",
       "      <td>0.00</td>\n",
       "      <td>102</td>\n",
       "      <td>0.0</td>\n",
       "      <td>0.0</td>\n",
       "    </tr>\n",
       "  </tbody>\n",
       "</table>\n",
       "</div>"
      ],
      "text/plain": [
       "         household_key    BASKET_ID  DAY  PRODUCT_ID  QUANTITY  SALES_VALUE  \\\n",
       "2146306           1598  42305362535  711       92130         1         0.99   \n",
       "2146307           1598  42305362535  711      114102         1         8.89   \n",
       "2146308           1598  42305362535  711      133449         1         6.99   \n",
       "2146309           1598  42305362535  711     6923644         1         4.50   \n",
       "2146310           1598  42305362535  711    14055192         1         6.99   \n",
       "\n",
       "         STORE_ID  RETAIL_DISC  WEEK_NO  COUPON_DISC  COUPON_MATCH_DISC  \n",
       "2146306      3228         0.00      102          0.0                0.0  \n",
       "2146307      3228         0.00      102          0.0                0.0  \n",
       "2146308      3228         0.00      102          0.0                0.0  \n",
       "2146309      3228        -0.49      102          0.0                0.0  \n",
       "2146310      3228         0.00      102          0.0                0.0  "
      ]
     },
     "execution_count": 46,
     "metadata": {},
     "output_type": "execute_result"
    }
   ],
   "source": [
    "df.tail() #check last five rows of data"
   ]
  },
  {
   "cell_type": "code",
   "execution_count": 47,
   "id": "fa9d4a4e",
   "metadata": {},
   "outputs": [
    {
     "data": {
      "text/html": [
       "<div>\n",
       "<style scoped>\n",
       "    .dataframe tbody tr th:only-of-type {\n",
       "        vertical-align: middle;\n",
       "    }\n",
       "\n",
       "    .dataframe tbody tr th {\n",
       "        vertical-align: top;\n",
       "    }\n",
       "\n",
       "    .dataframe thead th {\n",
       "        text-align: right;\n",
       "    }\n",
       "</style>\n",
       "<table border=\"1\" class=\"dataframe\">\n",
       "  <thead>\n",
       "    <tr style=\"text-align: right;\">\n",
       "      <th></th>\n",
       "      <th>household_key</th>\n",
       "      <th>BASKET_ID</th>\n",
       "      <th>DAY</th>\n",
       "      <th>PRODUCT_ID</th>\n",
       "      <th>QUANTITY</th>\n",
       "      <th>SALES_VALUE</th>\n",
       "      <th>STORE_ID</th>\n",
       "      <th>RETAIL_DISC</th>\n",
       "      <th>WEEK_NO</th>\n",
       "      <th>COUPON_DISC</th>\n",
       "      <th>COUPON_MATCH_DISC</th>\n",
       "    </tr>\n",
       "  </thead>\n",
       "  <tbody>\n",
       "    <tr>\n",
       "      <th>864276</th>\n",
       "      <td>896</td>\n",
       "      <td>31883631393</td>\n",
       "      <td>329</td>\n",
       "      <td>13007284</td>\n",
       "      <td>1</td>\n",
       "      <td>1.50</td>\n",
       "      <td>396</td>\n",
       "      <td>-0.69</td>\n",
       "      <td>48</td>\n",
       "      <td>0.0</td>\n",
       "      <td>0.0</td>\n",
       "    </tr>\n",
       "    <tr>\n",
       "      <th>952940</th>\n",
       "      <td>32</td>\n",
       "      <td>32204280765</td>\n",
       "      <td>356</td>\n",
       "      <td>5566968</td>\n",
       "      <td>1</td>\n",
       "      <td>2.23</td>\n",
       "      <td>317</td>\n",
       "      <td>0.00</td>\n",
       "      <td>52</td>\n",
       "      <td>0.0</td>\n",
       "      <td>0.0</td>\n",
       "    </tr>\n",
       "    <tr>\n",
       "      <th>980054</th>\n",
       "      <td>596</td>\n",
       "      <td>32407796029</td>\n",
       "      <td>364</td>\n",
       "      <td>825135</td>\n",
       "      <td>1</td>\n",
       "      <td>17.99</td>\n",
       "      <td>297</td>\n",
       "      <td>0.00</td>\n",
       "      <td>53</td>\n",
       "      <td>0.0</td>\n",
       "      <td>0.0</td>\n",
       "    </tr>\n",
       "    <tr>\n",
       "      <th>1108209</th>\n",
       "      <td>1229</td>\n",
       "      <td>32957479382</td>\n",
       "      <td>403</td>\n",
       "      <td>847270</td>\n",
       "      <td>2</td>\n",
       "      <td>1.18</td>\n",
       "      <td>343</td>\n",
       "      <td>0.00</td>\n",
       "      <td>58</td>\n",
       "      <td>0.0</td>\n",
       "      <td>0.0</td>\n",
       "    </tr>\n",
       "    <tr>\n",
       "      <th>679036</th>\n",
       "      <td>955</td>\n",
       "      <td>31058357938</td>\n",
       "      <td>274</td>\n",
       "      <td>976300</td>\n",
       "      <td>6</td>\n",
       "      <td>2.67</td>\n",
       "      <td>367</td>\n",
       "      <td>-0.27</td>\n",
       "      <td>40</td>\n",
       "      <td>0.0</td>\n",
       "      <td>0.0</td>\n",
       "    </tr>\n",
       "  </tbody>\n",
       "</table>\n",
       "</div>"
      ],
      "text/plain": [
       "         household_key    BASKET_ID  DAY  PRODUCT_ID  QUANTITY  SALES_VALUE  \\\n",
       "864276             896  31883631393  329    13007284         1         1.50   \n",
       "952940              32  32204280765  356     5566968         1         2.23   \n",
       "980054             596  32407796029  364      825135         1        17.99   \n",
       "1108209           1229  32957479382  403      847270         2         1.18   \n",
       "679036             955  31058357938  274      976300         6         2.67   \n",
       "\n",
       "         STORE_ID  RETAIL_DISC  WEEK_NO  COUPON_DISC  COUPON_MATCH_DISC  \n",
       "864276        396        -0.69       48          0.0                0.0  \n",
       "952940        317         0.00       52          0.0                0.0  \n",
       "980054        297         0.00       53          0.0                0.0  \n",
       "1108209       343         0.00       58          0.0                0.0  \n",
       "679036        367        -0.27       40          0.0                0.0  "
      ]
     },
     "execution_count": 47,
     "metadata": {},
     "output_type": "execute_result"
    }
   ],
   "source": [
    "df.sample(5, random_state = 353) #check random sample of data with seed to reproduce data"
   ]
  },
  {
   "cell_type": "code",
   "execution_count": 48,
   "id": "4c10e5f5",
   "metadata": {},
   "outputs": [
    {
     "name": "stdout",
     "output_type": "stream",
     "text": [
      "<class 'pandas.core.frame.DataFrame'>\n",
      "RangeIndex: 2146311 entries, 0 to 2146310\n",
      "Data columns (total 11 columns):\n",
      " #   Column             Dtype  \n",
      "---  ------             -----  \n",
      " 0   household_key      int64  \n",
      " 1   BASKET_ID          int64  \n",
      " 2   DAY                int64  \n",
      " 3   PRODUCT_ID         int64  \n",
      " 4   QUANTITY           int64  \n",
      " 5   SALES_VALUE        float64\n",
      " 6   STORE_ID           int64  \n",
      " 7   RETAIL_DISC        float64\n",
      " 8   WEEK_NO            int64  \n",
      " 9   COUPON_DISC        float64\n",
      " 10  COUPON_MATCH_DISC  float64\n",
      "dtypes: float64(4), int64(7)\n",
      "memory usage: 180.1 MB\n"
     ]
    }
   ],
   "source": [
    "df.info(memory_usage=\"deep\")  #check data types and memory useage"
   ]
  },
  {
   "cell_type": "markdown",
   "id": "942b1dac",
   "metadata": {},
   "source": [
    "### Observations:\n",
    "\n",
    "There are seven (7) int64 data types and four (4) float64 data types.  Combined they use 180.1 MB of memory.  Some of the datatypes will be changed to lower the amount of memory used. Quantity and Store ID can be reduced to int32, Day to int16, and week number to int8."
   ]
  },
  {
   "cell_type": "code",
   "execution_count": 49,
   "id": "22fb8381",
   "metadata": {},
   "outputs": [],
   "source": [
    "#reduce memory useage by changing data types\n",
    "df = df.astype(\n",
    "    {'DAY': 'int16',\n",
    "    'QUANTITY': 'int32',\n",
    "    'STORE_ID': 'int32',\n",
    "    'WEEK_NO': 'int8',\n",
    "    })"
   ]
  },
  {
   "cell_type": "code",
   "execution_count": 50,
   "id": "c6fdf78f",
   "metadata": {},
   "outputs": [
    {
     "name": "stdout",
     "output_type": "stream",
     "text": [
      "<class 'pandas.core.frame.DataFrame'>\n",
      "RangeIndex: 2146311 entries, 0 to 2146310\n",
      "Data columns (total 11 columns):\n",
      " #   Column             Dtype  \n",
      "---  ------             -----  \n",
      " 0   household_key      int64  \n",
      " 1   BASKET_ID          int64  \n",
      " 2   DAY                int16  \n",
      " 3   PRODUCT_ID         int64  \n",
      " 4   QUANTITY           int32  \n",
      " 5   SALES_VALUE        float64\n",
      " 6   STORE_ID           int32  \n",
      " 7   RETAIL_DISC        float64\n",
      " 8   WEEK_NO            int8   \n",
      " 9   COUPON_DISC        float64\n",
      " 10  COUPON_MATCH_DISC  float64\n",
      "dtypes: float64(4), int16(1), int32(2), int64(3), int8(1)\n",
      "memory usage: 137.1 MB\n"
     ]
    }
   ],
   "source": [
    "df.info(memory_usage=\"deep\") #check memory useage again to see how much space saved"
   ]
  },
  {
   "cell_type": "markdown",
   "id": "78348c82",
   "metadata": {},
   "source": [
    "### Observations:  \n",
    "\n",
    "memory useage was reduced from 180 mb to 137 mb.  "
   ]
  },
  {
   "cell_type": "code",
   "execution_count": 51,
   "id": "77c59f53",
   "metadata": {},
   "outputs": [
    {
     "data": {
      "text/html": [
       "<div>\n",
       "<style scoped>\n",
       "    .dataframe tbody tr th:only-of-type {\n",
       "        vertical-align: middle;\n",
       "    }\n",
       "\n",
       "    .dataframe tbody tr th {\n",
       "        vertical-align: top;\n",
       "    }\n",
       "\n",
       "    .dataframe thead th {\n",
       "        text-align: right;\n",
       "    }\n",
       "</style>\n",
       "<table border=\"1\" class=\"dataframe\">\n",
       "  <thead>\n",
       "    <tr style=\"text-align: right;\">\n",
       "      <th></th>\n",
       "      <th>household_key</th>\n",
       "      <th>BASKET_ID</th>\n",
       "      <th>DAY</th>\n",
       "      <th>PRODUCT_ID</th>\n",
       "      <th>QUANTITY</th>\n",
       "      <th>SALES_VALUE</th>\n",
       "      <th>STORE_ID</th>\n",
       "      <th>RETAIL_DISC</th>\n",
       "      <th>WEEK_NO</th>\n",
       "      <th>COUPON_DISC</th>\n",
       "      <th>COUPON_MATCH_DISC</th>\n",
       "    </tr>\n",
       "  </thead>\n",
       "  <tbody>\n",
       "    <tr>\n",
       "      <th>count</th>\n",
       "      <td>2146311.000</td>\n",
       "      <td>2.146311e+06</td>\n",
       "      <td>2146311.000</td>\n",
       "      <td>2.146311e+06</td>\n",
       "      <td>2146311.000</td>\n",
       "      <td>2146311.000</td>\n",
       "      <td>2146311.000</td>\n",
       "      <td>2146311.000</td>\n",
       "      <td>2146311.000</td>\n",
       "      <td>2146311.000</td>\n",
       "      <td>2146311.000</td>\n",
       "    </tr>\n",
       "    <tr>\n",
       "      <th>mean</th>\n",
       "      <td>1056.232</td>\n",
       "      <td>3.404897e+10</td>\n",
       "      <td>389.506</td>\n",
       "      <td>2.884715e+06</td>\n",
       "      <td>100.970</td>\n",
       "      <td>3.106</td>\n",
       "      <td>3267.939</td>\n",
       "      <td>-0.533</td>\n",
       "      <td>56.327</td>\n",
       "      <td>-0.016</td>\n",
       "      <td>-0.003</td>\n",
       "    </tr>\n",
       "    <tr>\n",
       "      <th>std</th>\n",
       "      <td>605.006</td>\n",
       "      <td>4.723748e+09</td>\n",
       "      <td>190.053</td>\n",
       "      <td>3.831949e+06</td>\n",
       "      <td>1152.364</td>\n",
       "      <td>4.186</td>\n",
       "      <td>9122.392</td>\n",
       "      <td>1.229</td>\n",
       "      <td>27.150</td>\n",
       "      <td>0.212</td>\n",
       "      <td>0.039</td>\n",
       "    </tr>\n",
       "    <tr>\n",
       "      <th>min</th>\n",
       "      <td>1.000</td>\n",
       "      <td>2.698490e+10</td>\n",
       "      <td>1.000</td>\n",
       "      <td>2.567100e+04</td>\n",
       "      <td>0.000</td>\n",
       "      <td>0.000</td>\n",
       "      <td>1.000</td>\n",
       "      <td>-130.020</td>\n",
       "      <td>1.000</td>\n",
       "      <td>-55.930</td>\n",
       "      <td>-7.700</td>\n",
       "    </tr>\n",
       "    <tr>\n",
       "      <th>25%</th>\n",
       "      <td>548.000</td>\n",
       "      <td>3.040798e+10</td>\n",
       "      <td>229.000</td>\n",
       "      <td>9.172310e+05</td>\n",
       "      <td>1.000</td>\n",
       "      <td>1.290</td>\n",
       "      <td>330.000</td>\n",
       "      <td>-0.680</td>\n",
       "      <td>33.000</td>\n",
       "      <td>0.000</td>\n",
       "      <td>0.000</td>\n",
       "    </tr>\n",
       "    <tr>\n",
       "      <th>50%</th>\n",
       "      <td>1042.000</td>\n",
       "      <td>3.281176e+10</td>\n",
       "      <td>392.000</td>\n",
       "      <td>1.027960e+06</td>\n",
       "      <td>1.000</td>\n",
       "      <td>2.000</td>\n",
       "      <td>372.000</td>\n",
       "      <td>0.000</td>\n",
       "      <td>57.000</td>\n",
       "      <td>0.000</td>\n",
       "      <td>0.000</td>\n",
       "    </tr>\n",
       "    <tr>\n",
       "      <th>75%</th>\n",
       "      <td>1581.000</td>\n",
       "      <td>4.012804e+10</td>\n",
       "      <td>555.000</td>\n",
       "      <td>1.132771e+06</td>\n",
       "      <td>1.000</td>\n",
       "      <td>3.490</td>\n",
       "      <td>422.000</td>\n",
       "      <td>0.000</td>\n",
       "      <td>80.000</td>\n",
       "      <td>0.000</td>\n",
       "      <td>0.000</td>\n",
       "    </tr>\n",
       "    <tr>\n",
       "      <th>max</th>\n",
       "      <td>2099.000</td>\n",
       "      <td>4.230536e+10</td>\n",
       "      <td>711.000</td>\n",
       "      <td>1.831630e+07</td>\n",
       "      <td>89638.000</td>\n",
       "      <td>840.000</td>\n",
       "      <td>34280.000</td>\n",
       "      <td>3.990</td>\n",
       "      <td>102.000</td>\n",
       "      <td>0.000</td>\n",
       "      <td>0.000</td>\n",
       "    </tr>\n",
       "  </tbody>\n",
       "</table>\n",
       "</div>"
      ],
      "text/plain": [
       "       household_key     BASKET_ID          DAY    PRODUCT_ID     QUANTITY  \\\n",
       "count    2146311.000  2.146311e+06  2146311.000  2.146311e+06  2146311.000   \n",
       "mean        1056.232  3.404897e+10      389.506  2.884715e+06      100.970   \n",
       "std          605.006  4.723748e+09      190.053  3.831949e+06     1152.364   \n",
       "min            1.000  2.698490e+10        1.000  2.567100e+04        0.000   \n",
       "25%          548.000  3.040798e+10      229.000  9.172310e+05        1.000   \n",
       "50%         1042.000  3.281176e+10      392.000  1.027960e+06        1.000   \n",
       "75%         1581.000  4.012804e+10      555.000  1.132771e+06        1.000   \n",
       "max         2099.000  4.230536e+10      711.000  1.831630e+07    89638.000   \n",
       "\n",
       "       SALES_VALUE     STORE_ID  RETAIL_DISC      WEEK_NO  COUPON_DISC  \\\n",
       "count  2146311.000  2146311.000  2146311.000  2146311.000  2146311.000   \n",
       "mean         3.106     3267.939       -0.533       56.327       -0.016   \n",
       "std          4.186     9122.392        1.229       27.150        0.212   \n",
       "min          0.000        1.000     -130.020        1.000      -55.930   \n",
       "25%          1.290      330.000       -0.680       33.000        0.000   \n",
       "50%          2.000      372.000        0.000       57.000        0.000   \n",
       "75%          3.490      422.000        0.000       80.000        0.000   \n",
       "max        840.000    34280.000        3.990      102.000        0.000   \n",
       "\n",
       "       COUPON_MATCH_DISC  \n",
       "count        2146311.000  \n",
       "mean              -0.003  \n",
       "std                0.039  \n",
       "min               -7.700  \n",
       "25%                0.000  \n",
       "50%                0.000  \n",
       "75%                0.000  \n",
       "max                0.000  "
      ]
     },
     "execution_count": 51,
     "metadata": {},
     "output_type": "execute_result"
    }
   ],
   "source": [
    "#statistical description of data\n",
    "\n",
    "df.describe().round(3)"
   ]
  },
  {
   "cell_type": "markdown",
   "id": "f20c7656",
   "metadata": {},
   "source": [
    "### Observations:\n",
    "\n",
    "The max quantity of 89,638 is substantially higher than the mean quantity of 101.\n",
    "The max sales value of 840 is substantially higher than the mean sales value of 3.\n"
   ]
  },
  {
   "cell_type": "code",
   "execution_count": 52,
   "id": "ad7c4cdd",
   "metadata": {},
   "outputs": [
    {
     "name": "stdout",
     "output_type": "stream",
     "text": [
      "There are 2146311 rows and 11 columns in the data set.\n"
     ]
    }
   ],
   "source": [
    "# Check the number of rows and columns in the data\n",
    "\n",
    "print(\"There are\", df.shape[0], 'rows and', df.shape[1], 'columns in the data set.')"
   ]
  },
  {
   "cell_type": "code",
   "execution_count": 53,
   "id": "3995fbe5",
   "metadata": {},
   "outputs": [
    {
     "name": "stdout",
     "output_type": "stream",
     "text": [
      "There are 0 null values in the data \n",
      "\n"
     ]
    },
    {
     "data": {
      "text/plain": [
       "household_key        0\n",
       "BASKET_ID            0\n",
       "DAY                  0\n",
       "PRODUCT_ID           0\n",
       "QUANTITY             0\n",
       "SALES_VALUE          0\n",
       "STORE_ID             0\n",
       "RETAIL_DISC          0\n",
       "WEEK_NO              0\n",
       "COUPON_DISC          0\n",
       "COUPON_MATCH_DISC    0\n",
       "dtype: int64"
      ]
     },
     "execution_count": 53,
     "metadata": {},
     "output_type": "execute_result"
    }
   ],
   "source": [
    "print('There are', df.isna().sum().sum(), 'null values in the data','\\n',)\n",
    "df.isna().sum() #check for missing values"
   ]
  },
  {
   "cell_type": "markdown",
   "id": "74744ce4",
   "metadata": {},
   "source": [
    "### Observations:\n",
    "\n",
    "No missing data"
   ]
  },
  {
   "cell_type": "code",
   "execution_count": 54,
   "id": "bed20b5b",
   "metadata": {},
   "outputs": [
    {
     "name": "stdout",
     "output_type": "stream",
     "text": [
      "There are 2099 unique household keys, 84138 unique product IDs, and 232939 unique basket IDs\n",
      "Only 0.098 percent of customers are unique.\n"
     ]
    }
   ],
   "source": [
    "#How many unique household keys, product ids and basket ids\n",
    "\n",
    "uniq_hhk = df['household_key'].nunique()\n",
    "uniq_prodID = df['PRODUCT_ID'].nunique()\n",
    "uniq_bask = df['BASKET_ID'].nunique()\n",
    "\n",
    "unique_cust_perc = (df['household_key'].nunique()/df['household_key'].value_counts().sum()*100).round(3)                                                                                                \n",
    "                                                                                                     \n",
    "print(f'There are {uniq_hhk} unique household keys, {uniq_prodID} unique product IDs, and {uniq_bask} unique basket IDs')\n",
    "\n",
    "print(f'Only {unique_cust_perc} percent of customers are unique.')\n"
   ]
  },
  {
   "cell_type": "markdown",
   "id": "5ae05197",
   "metadata": {},
   "source": [
    "### Observations:\n",
    "\n",
    "The number of household keys is much less than the number of basket ids.\n",
    "\n",
    "Less than 10% of basket id's are from unique customers.  Most customers are repeat shoppers.\n",
    "  "
   ]
  },
  {
   "cell_type": "code",
   "execution_count": 55,
   "id": "e0af83c4",
   "metadata": {},
   "outputs": [
    {
     "data": {
      "text/html": [
       "<div>\n",
       "<style scoped>\n",
       "    .dataframe tbody tr th:only-of-type {\n",
       "        vertical-align: middle;\n",
       "    }\n",
       "\n",
       "    .dataframe tbody tr th {\n",
       "        vertical-align: top;\n",
       "    }\n",
       "\n",
       "    .dataframe thead th {\n",
       "        text-align: right;\n",
       "    }\n",
       "</style>\n",
       "<table border=\"1\" class=\"dataframe\">\n",
       "  <thead>\n",
       "    <tr style=\"text-align: right;\">\n",
       "      <th></th>\n",
       "      <th>household_key</th>\n",
       "      <th>BASKET_ID</th>\n",
       "      <th>DAY</th>\n",
       "      <th>PRODUCT_ID</th>\n",
       "      <th>QUANTITY</th>\n",
       "      <th>SALES_VALUE</th>\n",
       "      <th>STORE_ID</th>\n",
       "      <th>WEEK_NO</th>\n",
       "      <th>TOTAL_DISC</th>\n",
       "      <th>PERC_DISC</th>\n",
       "    </tr>\n",
       "  </thead>\n",
       "  <tbody>\n",
       "    <tr>\n",
       "      <th>0</th>\n",
       "      <td>1364</td>\n",
       "      <td>26984896261</td>\n",
       "      <td>1</td>\n",
       "      <td>842930</td>\n",
       "      <td>1</td>\n",
       "      <td>2.19</td>\n",
       "      <td>31742</td>\n",
       "      <td>1</td>\n",
       "      <td>0.00</td>\n",
       "      <td>0.000000</td>\n",
       "    </tr>\n",
       "    <tr>\n",
       "      <th>1</th>\n",
       "      <td>1364</td>\n",
       "      <td>26984896261</td>\n",
       "      <td>1</td>\n",
       "      <td>897044</td>\n",
       "      <td>1</td>\n",
       "      <td>2.99</td>\n",
       "      <td>31742</td>\n",
       "      <td>1</td>\n",
       "      <td>-0.40</td>\n",
       "      <td>0.133779</td>\n",
       "    </tr>\n",
       "    <tr>\n",
       "      <th>2</th>\n",
       "      <td>1364</td>\n",
       "      <td>26984896261</td>\n",
       "      <td>1</td>\n",
       "      <td>920955</td>\n",
       "      <td>1</td>\n",
       "      <td>3.09</td>\n",
       "      <td>31742</td>\n",
       "      <td>1</td>\n",
       "      <td>0.00</td>\n",
       "      <td>0.000000</td>\n",
       "    </tr>\n",
       "    <tr>\n",
       "      <th>3</th>\n",
       "      <td>1364</td>\n",
       "      <td>26984896261</td>\n",
       "      <td>1</td>\n",
       "      <td>937406</td>\n",
       "      <td>1</td>\n",
       "      <td>2.50</td>\n",
       "      <td>31742</td>\n",
       "      <td>1</td>\n",
       "      <td>-0.99</td>\n",
       "      <td>0.396000</td>\n",
       "    </tr>\n",
       "    <tr>\n",
       "      <th>4</th>\n",
       "      <td>1364</td>\n",
       "      <td>26984896261</td>\n",
       "      <td>1</td>\n",
       "      <td>981760</td>\n",
       "      <td>1</td>\n",
       "      <td>0.60</td>\n",
       "      <td>31742</td>\n",
       "      <td>1</td>\n",
       "      <td>-0.79</td>\n",
       "      <td>1.000000</td>\n",
       "    </tr>\n",
       "  </tbody>\n",
       "</table>\n",
       "</div>"
      ],
      "text/plain": [
       "   household_key    BASKET_ID  DAY  PRODUCT_ID  QUANTITY  SALES_VALUE  \\\n",
       "0           1364  26984896261    1      842930         1         2.19   \n",
       "1           1364  26984896261    1      897044         1         2.99   \n",
       "2           1364  26984896261    1      920955         1         3.09   \n",
       "3           1364  26984896261    1      937406         1         2.50   \n",
       "4           1364  26984896261    1      981760         1         0.60   \n",
       "\n",
       "   STORE_ID  WEEK_NO  TOTAL_DISC  PERC_DISC  \n",
       "0     31742        1        0.00   0.000000  \n",
       "1     31742        1       -0.40   0.133779  \n",
       "2     31742        1        0.00   0.000000  \n",
       "3     31742        1       -0.99   0.396000  \n",
       "4     31742        1       -0.79   1.000000  "
      ]
     },
     "execution_count": 55,
     "metadata": {},
     "output_type": "execute_result"
    }
   ],
   "source": [
    "# Add and drop columns\n",
    "df['TOTAL_DISC'] = df['RETAIL_DISC'] + df['COUPON_DISC'] #new column for total discount\n",
    "df['PERC_DISC'] = (df['TOTAL_DISC'] / df['SALES_VALUE']).abs() #new column for percent discount\n",
    "\n",
    "#modify percentage discount so that all discounts are between 0 and 1\n",
    "df['PERC_DISC'] = (df['PERC_DISC']  \n",
    "                            .where(df['PERC_DISC'] <1,1) # where < 1 is false, put 1\n",
    "                            .where(df['PERC_DISC'] >0, 0)) # where >0 is false, put 0\n",
    "\n",
    "#drop columns and overwrite existing dataframe\n",
    "df = df.drop(['RETAIL_DISC', 'COUPON_DISC', 'COUPON_MATCH_DISC'], axis=1)\n",
    "\n",
    "df.head() #confirm all changes "
   ]
  },
  {
   "cell_type": "markdown",
   "id": "f71c9c9a",
   "metadata": {},
   "source": [
    "### Statistics"
   ]
  },
  {
   "cell_type": "code",
   "execution_count": 56,
   "id": "8b828816",
   "metadata": {},
   "outputs": [
    {
     "name": "stdout",
     "output_type": "stream",
     "text": [
      " Total sales: $6,666,243.0\n"
     ]
    }
   ],
   "source": [
    "#Total sales\n",
    "total_sales = df['SALES_VALUE'].sum().round() #new variable, total_sales, stores value of sum of all SALES_VALUE\n",
    "\n",
    "print(f' Total sales: ${total_sales:,}')"
   ]
  },
  {
   "cell_type": "code",
   "execution_count": 57,
   "id": "0f06363f",
   "metadata": {},
   "outputs": [
    {
     "name": "stdout",
     "output_type": "stream",
     "text": [
      "Total discount: -1,178,658.08\n"
     ]
    }
   ],
   "source": [
    "#Sum of total discount column\n",
    "\n",
    "sum_total_disc = df['TOTAL_DISC'].sum().round(4)\n",
    "\n",
    "print(f'Total discount: {sum_total_disc:,}')"
   ]
  },
  {
   "cell_type": "code",
   "execution_count": 58,
   "id": "4e041e76",
   "metadata": {},
   "outputs": [
    {
     "name": "stdout",
     "output_type": "stream",
     "text": [
      " Overall percentage discount: -0.1768\n"
     ]
    }
   ],
   "source": [
    "##Overall percentage discount equals sum of the new column, TOTAL_DISC divided by new variable, total_sales\n",
    "\n",
    "overall_perc_disc = (df['TOTAL_DISC'].sum() / total_sales).round(4)\n",
    "\n",
    "print(f' Overall percentage discount: {overall_perc_disc}')"
   ]
  },
  {
   "cell_type": "code",
   "execution_count": 59,
   "id": "305387ed",
   "metadata": {},
   "outputs": [
    {
     "name": "stdout",
     "output_type": "stream",
     "text": [
      "Average percentage discount: 0.2073\n"
     ]
    }
   ],
   "source": [
    "#average percentage discount\n",
    "avg_disc = round(df.PERC_DISC.mean(),4)\n",
    "\n",
    "print(f'Average percentage discount: {avg_disc}')"
   ]
  },
  {
   "cell_type": "code",
   "execution_count": 60,
   "id": "2250c8a8",
   "metadata": {},
   "outputs": [
    {
     "name": "stdout",
     "output_type": "stream",
     "text": [
      " Total quantity sold: 216,713,611\n"
     ]
    }
   ],
   "source": [
    "#Total quantity sold \n",
    "\n",
    "total_quant_sold = df['QUANTITY'].sum()\n",
    "\n",
    "print(f' Total quantity sold: {total_quant_sold:,}')"
   ]
  },
  {
   "cell_type": "code",
   "execution_count": 61,
   "id": "131f9bcc",
   "metadata": {},
   "outputs": [
    {
     "name": "stdout",
     "output_type": "stream",
     "text": [
      " Max quantity sold: 89,638\n"
     ]
    }
   ],
   "source": [
    "#Max quantity sold\n",
    "\n",
    "max_quant_sold = df['QUANTITY'].max()\n",
    "\n",
    "print(f' Max quantity sold: {max_quant_sold:,}')"
   ]
  },
  {
   "cell_type": "code",
   "execution_count": 62,
   "id": "10243d5a",
   "metadata": {},
   "outputs": [
    {
     "data": {
      "text/plain": [
       "household_key            630.0\n",
       "BASKET_ID        34749153595.0\n",
       "DAY                      503.0\n",
       "PRODUCT_ID           6534178.0\n",
       "QUANTITY               89638.0\n",
       "SALES_VALUE              250.0\n",
       "STORE_ID                 384.0\n",
       "WEEK_NO                   73.0\n",
       "TOTAL_DISC              -13.45\n",
       "PERC_DISC               0.0538\n",
       "Name: 1442095, dtype: object"
      ]
     },
     "execution_count": 62,
     "metadata": {},
     "output_type": "execute_result"
    }
   ],
   "source": [
    "# view row for max quantity sold\n",
    "\n",
    "df.loc[df[\"QUANTITY\"].argmax()].astype(str) #converted type to string to rid scientific notation"
   ]
  },
  {
   "cell_type": "markdown",
   "id": "73506307",
   "metadata": {},
   "source": [
    "### Observations:\n",
    "\n",
    "The discount percentage for the max quantity sold is small at .05. It is much less than the overall percentage discount."
   ]
  },
  {
   "cell_type": "code",
   "execution_count": 63,
   "id": "86a0094e",
   "metadata": {},
   "outputs": [
    {
     "name": "stdout",
     "output_type": "stream",
     "text": [
      " Average sales value per basket: 28.62\n"
     ]
    }
   ],
   "source": [
    "# Average sales value per basket\n",
    "\n",
    "sales_value_per_basket = (total_sales / df['BASKET_ID'].nunique()).round(2)\n",
    "\n",
    "print(f' Average sales value per basket: {sales_value_per_basket}')"
   ]
  },
  {
   "cell_type": "code",
   "execution_count": 64,
   "id": "35a88f70",
   "metadata": {},
   "outputs": [
    {
     "name": "stdout",
     "output_type": "stream",
     "text": [
      " Average sales value per household key: 3175.91\n"
     ]
    }
   ],
   "source": [
    "# Average sales per household key\n",
    "\n",
    "sales_value_per_household = (total_sales / df['household_key'].nunique()).round(2)\n",
    "\n",
    "print(f' Average sales value per household key: {sales_value_per_household}')"
   ]
  },
  {
   "cell_type": "code",
   "execution_count": 65,
   "id": "e966acb8",
   "metadata": {},
   "outputs": [
    {
     "name": "stdout",
     "output_type": "stream",
     "text": [
      " Max sales value: 840.0 \n",
      " Min sales value: 0.0 \n",
      " Average sales value: 3.11 \n",
      " Median_sales_value: 2.0 \n",
      " Standard Deviation: 4.19\n"
     ]
    },
    {
     "data": {
      "image/png": "[encoded data removed]",
      "text/plain": [
       "<Figure size 1152x288 with 1 Axes>"
      ]
     },
     "metadata": {
      "needs_background": "light"
     },
     "output_type": "display_data"
    }
   ],
   "source": [
    "# Compare Sales Values of individual products: max, min, averages, outliers\n",
    "\n",
    "df['SALES_VALUE'].T.plot.box(figsize=(16,4), vert = False);\n",
    "\n",
    "\n",
    "max_sales_value = df['SALES_VALUE'].max()\n",
    "min_sales_value = df['SALES_VALUE'].min()\n",
    "    \n",
    "avg_sales_value = round(df['SALES_VALUE'].mean(),2)\n",
    "median_sales_value = df['SALES_VALUE'].median()\n",
    "stdev = round(df['SALES_VALUE'].std(),2)\n",
    "\n",
    "print('',\"Max sales value:\", max_sales_value,'\\n',\n",
    "    \"Min sales value:\", min_sales_value,'\\n',\n",
    "     \"Average sales value:\", avg_sales_value,'\\n',\n",
    "     \"Median_sales_value:\", median_sales_value,'\\n',\n",
    "     \"Standard Deviation:\", stdev)"
   ]
  },
  {
   "cell_type": "markdown",
   "id": "3d1350c7",
   "metadata": {},
   "source": [
    "### Observations:\n",
    "\n",
    "There are a lot of outliers in the sales values, with a maximum of 840 dollars. Most sales values are very small with a median of 2 dollars but the large outliers are skewing the average and the standard deviation. Some of the outliers may need to be verified to make sure they are correct but for now the outliers will not be treated.  "
   ]
  },
  {
   "cell_type": "code",
   "execution_count": 66,
   "id": "3a8ab1b3",
   "metadata": {},
   "outputs": [
    {
     "name": "stdout",
     "output_type": "stream",
     "text": [
      "There are 526 stores\n"
     ]
    }
   ],
   "source": [
    "#Number of individual stores\n",
    "\n",
    "store_count = df['STORE_ID'].nunique()\n",
    "\n",
    "print(f'There are {store_count} stores')"
   ]
  },
  {
   "cell_type": "code",
   "execution_count": 67,
   "id": "7da2008b",
   "metadata": {},
   "outputs": [
    {
     "name": "stdout",
     "output_type": "stream",
     "text": [
      "\u001b[1mPercent of total sales by top 50 stores:\u001b[0m \n",
      " SALES_VALUE    0.6452\n",
      "dtype: float64\n"
     ]
    }
   ],
   "source": [
    "top_50_StoreSV = (df.\n",
    "                groupby('STORE_ID')\n",
    "                .agg({'SALES_VALUE': 'sum'})\n",
    "                .sort_values('SALES_VALUE', ascending = False)\n",
    "                .iloc[:50])\n",
    "\n",
    "top_50_storeSV_sum = top_50_StoreSV.sum()\n",
    "\n",
    "SV_top_perc = (top_50_StoreSV.sum()/total_sales).round(4)\n",
    "\n",
    "print(color.BOLD+'Percent of total sales by top 50 stores:'+color.END, '\\n',\n",
    "     (SV_top_perc))\n"
   ]
  },
  {
   "cell_type": "code",
   "execution_count": 68,
   "id": "11c69f3c",
   "metadata": {},
   "outputs": [
    {
     "data": {
      "image/png": "[encoded data removed]",
      "text/plain": [
       "<Figure size 1296x432 with 1 Axes>"
      ]
     },
     "metadata": {
      "needs_background": "light"
     },
     "output_type": "display_data"
    }
   ],
   "source": [
    "top_50_StoreSV.plot.bar(figsize=(18,6),xlabel= 'Store_ID', ylabel= 'Sales Value', rot=90);"
   ]
  },
  {
   "cell_type": "markdown",
   "id": "cdd13d04",
   "metadata": {},
   "source": [
    "### Observations:\n",
    "\n",
    "Store 367 has a much higher sales value (approximately 250,000) than all the other stores.  This value will skew the average sales of the stores.  Store 367 should be evaluated further to understand why its sales are so high, and if that can be replicated at other stores."
   ]
  },
  {
   "cell_type": "code",
   "execution_count": 69,
   "id": "c2f1cfcc",
   "metadata": {},
   "outputs": [
    {
     "name": "stdout",
     "output_type": "stream",
     "text": [
      "\u001b[1mPercent of total sales by bottom 100 stores:\u001b[0m \n",
      " SALES_VALUE    0.00011\n",
      "dtype: float64\n"
     ]
    },
    {
     "data": {
      "text/html": [
       "<div>\n",
       "<style scoped>\n",
       "    .dataframe tbody tr th:only-of-type {\n",
       "        vertical-align: middle;\n",
       "    }\n",
       "\n",
       "    .dataframe tbody tr th {\n",
       "        vertical-align: top;\n",
       "    }\n",
       "\n",
       "    .dataframe thead th {\n",
       "        text-align: right;\n",
       "    }\n",
       "</style>\n",
       "<table border=\"1\" class=\"dataframe\">\n",
       "  <thead>\n",
       "    <tr style=\"text-align: right;\">\n",
       "      <th></th>\n",
       "      <th>SALES_VALUE</th>\n",
       "    </tr>\n",
       "    <tr>\n",
       "      <th>STORE_ID</th>\n",
       "      <th></th>\n",
       "    </tr>\n",
       "  </thead>\n",
       "  <tbody>\n",
       "    <tr>\n",
       "      <th>1235</th>\n",
       "      <td>0.00</td>\n",
       "    </tr>\n",
       "    <tr>\n",
       "      <th>610</th>\n",
       "      <td>0.50</td>\n",
       "    </tr>\n",
       "    <tr>\n",
       "      <th>256</th>\n",
       "      <td>0.76</td>\n",
       "    </tr>\n",
       "    <tr>\n",
       "      <th>639</th>\n",
       "      <td>0.85</td>\n",
       "    </tr>\n",
       "    <tr>\n",
       "      <th>551</th>\n",
       "      <td>1.00</td>\n",
       "    </tr>\n",
       "    <tr>\n",
       "      <th>...</th>\n",
       "      <td>...</td>\n",
       "    </tr>\n",
       "    <tr>\n",
       "      <th>195</th>\n",
       "      <td>15.33</td>\n",
       "    </tr>\n",
       "    <tr>\n",
       "      <th>2972</th>\n",
       "      <td>15.78</td>\n",
       "    </tr>\n",
       "    <tr>\n",
       "      <th>3035</th>\n",
       "      <td>15.99</td>\n",
       "    </tr>\n",
       "    <tr>\n",
       "      <th>2676</th>\n",
       "      <td>16.05</td>\n",
       "    </tr>\n",
       "    <tr>\n",
       "      <th>621</th>\n",
       "      <td>16.40</td>\n",
       "    </tr>\n",
       "  </tbody>\n",
       "</table>\n",
       "<p>100 rows × 1 columns</p>\n",
       "</div>"
      ],
      "text/plain": [
       "          SALES_VALUE\n",
       "STORE_ID             \n",
       "1235             0.00\n",
       "610              0.50\n",
       "256              0.76\n",
       "639              0.85\n",
       "551              1.00\n",
       "...               ...\n",
       "195             15.33\n",
       "2972            15.78\n",
       "3035            15.99\n",
       "2676            16.05\n",
       "621             16.40\n",
       "\n",
       "[100 rows x 1 columns]"
      ]
     },
     "execution_count": 69,
     "metadata": {},
     "output_type": "execute_result"
    }
   ],
   "source": [
    "bottom_100_StoreSV = (df.\n",
    "                groupby('STORE_ID')\n",
    "                .agg({'SALES_VALUE': 'sum'})\n",
    "                .sort_values('SALES_VALUE', ascending = True)\n",
    "                .iloc[:100])\n",
    "\n",
    "bottom_100_StoreSV_sum = bottom_100_StoreSV.sum()\n",
    "\n",
    "SV_bottom_perc = bottom_100_StoreSV.sum()/total_sales\n",
    "\n",
    "print(color.BOLD+'Percent of total sales by bottom 100 stores:'+color.END, '\\n', \n",
    "      (SV_bottom_perc))\n",
    "\n",
    "bottom_100_StoreSV"
   ]
  },
  {
   "cell_type": "markdown",
   "id": "8866a9a6",
   "metadata": {},
   "source": [
    "### Observations:\n",
    "\n",
    "Top 100 stores make up 95 percent of sales value.  The bottom 100 stores have very low or no sales.  It's possible these stores are not open for business yet or they could be closed locations. More information is needed.  Store sales value should be considered before acquiring because some of these stores may have cost associated with them but they are not producing revenue."
   ]
  },
  {
   "cell_type": "code",
   "execution_count": 70,
   "id": "75136efe",
   "metadata": {},
   "outputs": [
    {
     "data": {
      "image/png": "[encoded data removed]",
      "text/plain": [
       "<Figure size 864x432 with 1 Axes>"
      ]
     },
     "metadata": {
      "needs_background": "light"
     },
     "output_type": "display_data"
    }
   ],
   "source": [
    "sales_distribution_by_store= (df\n",
    ".groupby('STORE_ID')\n",
    ".agg({'SALES_VALUE': 'sum'})\n",
    ".plot.hist(figsize=(12,6),\n",
    "           title = 'Distribution by Store ID Sales Value',\n",
    "           color='Black'));\n"
   ]
  },
  {
   "cell_type": "markdown",
   "id": "89016a20",
   "metadata": {},
   "source": [
    "## Household Analysis\n",
    "\n"
   ]
  },
  {
   "cell_type": "code",
   "execution_count": 71,
   "id": "c3e70a6b",
   "metadata": {},
   "outputs": [
    {
     "data": {
      "image/png": "[encoded data removed]",
      "text/plain": [
       "<Figure size 864x432 with 1 Axes>"
      ]
     },
     "metadata": {
      "needs_background": "light"
     },
     "output_type": "display_data"
    }
   ],
   "source": [
    "sales_dist = (df\n",
    ".groupby('household_key')\n",
    ".agg({'SALES_VALUE': 'sum'})\n",
    ".plot.hist(figsize=(12,6),\n",
    "           title = 'Distribution by Household Sales Value',\n",
    "           color='Purple'));\n",
    "\n"
   ]
  },
  {
   "cell_type": "markdown",
   "id": "cafe5c80",
   "metadata": {},
   "source": [
    "### Observations:\n",
    "\n",
    "The data for total household sales skewed left.  The majority of household sales value is about 4000 or less. Still, there is a is a significant number of households with sales values over 5000, with a small number over 15,000.\n"
   ]
  },
  {
   "cell_type": "code",
   "execution_count": 72,
   "id": "daa8dd61",
   "metadata": {},
   "outputs": [
    {
     "data": {
      "text/html": [
       "<div>\n",
       "<style scoped>\n",
       "    .dataframe tbody tr th:only-of-type {\n",
       "        vertical-align: middle;\n",
       "    }\n",
       "\n",
       "    .dataframe tbody tr th {\n",
       "        vertical-align: top;\n",
       "    }\n",
       "\n",
       "    .dataframe thead th {\n",
       "        text-align: right;\n",
       "    }\n",
       "</style>\n",
       "<table border=\"1\" class=\"dataframe\">\n",
       "  <thead>\n",
       "    <tr style=\"text-align: right;\">\n",
       "      <th></th>\n",
       "      <th>QUANTITY</th>\n",
       "    </tr>\n",
       "    <tr>\n",
       "      <th>household_key</th>\n",
       "      <th></th>\n",
       "    </tr>\n",
       "  </thead>\n",
       "  <tbody>\n",
       "    <tr>\n",
       "      <th>1023</th>\n",
       "      <td>4479917</td>\n",
       "    </tr>\n",
       "    <tr>\n",
       "      <th>755</th>\n",
       "      <td>3141769</td>\n",
       "    </tr>\n",
       "    <tr>\n",
       "      <th>1609</th>\n",
       "      <td>2146715</td>\n",
       "    </tr>\n",
       "    <tr>\n",
       "      <th>13</th>\n",
       "      <td>1863829</td>\n",
       "    </tr>\n",
       "    <tr>\n",
       "      <th>1430</th>\n",
       "      <td>1741892</td>\n",
       "    </tr>\n",
       "    <tr>\n",
       "      <th>1527</th>\n",
       "      <td>1734632</td>\n",
       "    </tr>\n",
       "    <tr>\n",
       "      <th>1762</th>\n",
       "      <td>1669880</td>\n",
       "    </tr>\n",
       "    <tr>\n",
       "      <th>707</th>\n",
       "      <td>1640193</td>\n",
       "    </tr>\n",
       "    <tr>\n",
       "      <th>1029</th>\n",
       "      <td>1496204</td>\n",
       "    </tr>\n",
       "    <tr>\n",
       "      <th>1314</th>\n",
       "      <td>1492863</td>\n",
       "    </tr>\n",
       "  </tbody>\n",
       "</table>\n",
       "</div>"
      ],
      "text/plain": [
       "               QUANTITY\n",
       "household_key          \n",
       "1023            4479917\n",
       "755             3141769\n",
       "1609            2146715\n",
       "13              1863829\n",
       "1430            1741892\n",
       "1527            1734632\n",
       "1762            1669880\n",
       "707             1640193\n",
       "1029            1496204\n",
       "1314            1492863"
      ]
     },
     "execution_count": 72,
     "metadata": {},
     "output_type": "execute_result"
    }
   ],
   "source": [
    "top_10_quantity = (df.\n",
    "                groupby('household_key')\n",
    "                .agg({'QUANTITY': 'sum'})\n",
    "                .sort_values('QUANTITY', ascending = False)\n",
    "                .iloc[:10])\n",
    "\n",
    "top_10_quantity"
   ]
  },
  {
   "cell_type": "markdown",
   "id": "a597310f",
   "metadata": {},
   "source": [
    "### Observations:\n",
    "\n",
    "Household ID 1023 purchased the highest quantity followed by Household ID 755."
   ]
  },
  {
   "cell_type": "code",
   "execution_count": 73,
   "id": "c068711b",
   "metadata": {},
   "outputs": [
    {
     "data": {
      "text/html": [
       "<div>\n",
       "<style scoped>\n",
       "    .dataframe tbody tr th:only-of-type {\n",
       "        vertical-align: middle;\n",
       "    }\n",
       "\n",
       "    .dataframe tbody tr th {\n",
       "        vertical-align: top;\n",
       "    }\n",
       "\n",
       "    .dataframe thead th {\n",
       "        text-align: right;\n",
       "    }\n",
       "</style>\n",
       "<table border=\"1\" class=\"dataframe\">\n",
       "  <thead>\n",
       "    <tr style=\"text-align: right;\">\n",
       "      <th></th>\n",
       "      <th>SALES_VALUE</th>\n",
       "    </tr>\n",
       "    <tr>\n",
       "      <th>household_key</th>\n",
       "      <th></th>\n",
       "    </tr>\n",
       "  </thead>\n",
       "  <tbody>\n",
       "    <tr>\n",
       "      <th>1023</th>\n",
       "      <td>38319.79</td>\n",
       "    </tr>\n",
       "    <tr>\n",
       "      <th>1609</th>\n",
       "      <td>27859.68</td>\n",
       "    </tr>\n",
       "    <tr>\n",
       "      <th>1453</th>\n",
       "      <td>21661.29</td>\n",
       "    </tr>\n",
       "    <tr>\n",
       "      <th>1430</th>\n",
       "      <td>20352.99</td>\n",
       "    </tr>\n",
       "    <tr>\n",
       "      <th>718</th>\n",
       "      <td>19299.86</td>\n",
       "    </tr>\n",
       "    <tr>\n",
       "      <th>707</th>\n",
       "      <td>19194.42</td>\n",
       "    </tr>\n",
       "    <tr>\n",
       "      <th>1653</th>\n",
       "      <td>19153.75</td>\n",
       "    </tr>\n",
       "    <tr>\n",
       "      <th>1111</th>\n",
       "      <td>18894.72</td>\n",
       "    </tr>\n",
       "    <tr>\n",
       "      <th>982</th>\n",
       "      <td>18790.34</td>\n",
       "    </tr>\n",
       "    <tr>\n",
       "      <th>400</th>\n",
       "      <td>18494.14</td>\n",
       "    </tr>\n",
       "  </tbody>\n",
       "</table>\n",
       "</div>"
      ],
      "text/plain": [
       "               SALES_VALUE\n",
       "household_key             \n",
       "1023              38319.79\n",
       "1609              27859.68\n",
       "1453              21661.29\n",
       "1430              20352.99\n",
       "718               19299.86\n",
       "707               19194.42\n",
       "1653              19153.75\n",
       "1111              18894.72\n",
       "982               18790.34\n",
       "400               18494.14"
      ]
     },
     "execution_count": 73,
     "metadata": {},
     "output_type": "execute_result"
    }
   ],
   "source": [
    "top_10_values = (df.\n",
    "                groupby('household_key')\n",
    "                .agg({'SALES_VALUE': 'sum'})\n",
    "                .sort_values('SALES_VALUE', ascending = False)\n",
    "                .iloc[:10])\n",
    "\n",
    "top_10_values"
   ]
  },
  {
   "cell_type": "markdown",
   "id": "dab0892b",
   "metadata": {},
   "source": [
    "### Observations:\n",
    "\n",
    "Household ID 1023 also had the highest sales value.  Household ID 755 that had second highest quantity value did not make the top 10 list for sales value. This demonstrates that the customer that purchases the most is not necessarily the most valuable customer, assuming that profit margins are consistent across products."
   ]
  },
  {
   "cell_type": "code",
   "execution_count": 74,
   "id": "8488ee23",
   "metadata": {},
   "outputs": [
    {
     "data": {
      "image/png": "[encoded data removed]",
      "text/plain": [
       "<Figure size 1152x288 with 1 Axes>"
      ]
     },
     "metadata": {
      "needs_background": "light"
     },
     "output_type": "display_data"
    }
   ],
   "source": [
    "top_10_values.plot.bar(figsize=(16,4),xlabel= 'Household Key', ylabel= 'Sales Value', rot=0);\n",
    "\n"
   ]
  },
  {
   "cell_type": "markdown",
   "id": "24204c05",
   "metadata": {},
   "source": [
    "## Product Analysis\n",
    "\n"
   ]
  },
  {
   "cell_type": "code",
   "execution_count": 75,
   "id": "3c64911f",
   "metadata": {},
   "outputs": [
    {
     "name": "stdout",
     "output_type": "stream",
     "text": [
      "The number of products with sales values under $5 is 1868450.\n",
      "The number of products with sales values over or equalt to $5 is 277861.\n",
      "The number of products with sales values over or equal to $30 is 9731.\n"
     ]
    }
   ],
   "source": [
    "#Sales value of individual products\n",
    "\n",
    "df_salesvalues_under_5 = df[df['SALES_VALUE']<5]\n",
    "df_salesvalues_over_5 = df[df['SALES_VALUE']>=5]\n",
    "df_salesvalues_over_30 = df[df['SALES_VALUE']>=30]\n",
    "\n",
    "print('','The number of products with sales values under $5 is',' ',df_salesvalues_under_5.shape[0],'.','\\n',\n",
    "      'The number of products with sales values over or equalt to $5 is',' ',df_salesvalues_over_5.shape[0],'.','\\n',\n",
    "      'The number of products with sales values over or equal to $30 is',' ',df_salesvalues_over_30.shape[0],'.',sep='')\n",
    "\n",
    "\n",
    "\n"
   ]
  },
  {
   "cell_type": "markdown",
   "id": "b5819a92",
   "metadata": {},
   "source": [
    "### Observations:\n",
    "\n",
    "The majority of products sold for under 5 dollars.  There were 277,681 sales values over 5 but only 9731 of them were over $30."
   ]
  },
  {
   "cell_type": "code",
   "execution_count": 76,
   "id": "b78a084a",
   "metadata": {},
   "outputs": [
    {
     "name": "stdout",
     "output_type": "stream",
     "text": [
      "\u001b[1m#1 Product by sales value:\u001b[0m \n",
      "\n",
      "   PRODUCT_ID  SALES_VALUE\n",
      "0     6534178    420154.13 \n",
      "\n",
      "\u001b[1m#10 Product by sales value:\u001b[0m\n",
      "   PRODUCT_ID  SALES_VALUE\n",
      "0     5569230     20051.95 \n",
      "\n",
      "\u001b[1mAverage sales of top 10 products:\u001b[0m \n",
      "\n",
      "SALES_VALUE    65508.652\n",
      "dtype: float64 \n",
      "\n",
      "\u001b[1mMedian sales of top 10 products:\u001b[0m \n",
      "\n",
      "SALES_VALUE    23793.42\n",
      "dtype: float64\n"
     ]
    },
    {
     "data": {
      "image/png": "[encoded data removed]",
      "text/plain": [
       "<Figure size 864x360 with 1 Axes>"
      ]
     },
     "metadata": {
      "needs_background": "light"
     },
     "output_type": "display_data"
    }
   ],
   "source": [
    "# Top 10 products by sales value\n",
    "top_10_products = (df.\n",
    "                groupby('PRODUCT_ID')  #group by product id\n",
    "                .agg({'SALES_VALUE': 'sum'}) #sum of sales value for each product id\n",
    "                .sort_values('SALES_VALUE', ascending = False) # sort from largest to smallest\n",
    "                .iloc[:10]) #select the first 10 rows which will be largest since they are sorted\n",
    "\n",
    "#variables for #1 product, #10 product, average and median of top 10 products\n",
    "no_1_prod = top_10_products.iloc[0:1].reset_index()\n",
    "no_10_prod = top_10_products.iloc[9:10].reset_index()\n",
    "avg_sales_top_10_prod = top_10_products.mean()\n",
    "median_sales_top_10_prod = top_10_products.median()\n",
    "\n",
    "# print the sales value for #1 and #10 ranked product, and avg and median of the top 10 prod by sales value\n",
    "print(color.BOLD+'#1 Product by sales value:'+color.END,'\\n',)\n",
    "print(f'{no_1_prod}','\\n',)\n",
    "print(color.BOLD+'#10 Product by sales value:'+color.END)\n",
    "print(f'{no_10_prod}','\\n',)\n",
    "print(color.BOLD+'Average sales of top 10 products:'+color.END,'\\n',)\n",
    "print(avg_sales_top_10_prod,'\\n',)\n",
    "print(color.BOLD+'Median sales of top 10 products:'+color.END,'\\n',)\n",
    "print(median_sales_top_10_prod)\n",
    "\n",
    "\n",
    "\n",
    "# plot the top products \n",
    "top_10_products.plot.barh(figsize =(12,5),  \n",
    "                          title = 'Sales Value of Top 10 Products',\n",
    "                          color = 'Green');\n",
    "\n"
   ]
  },
  {
   "cell_type": "markdown",
   "id": "f16d2d8e",
   "metadata": {},
   "source": [
    "### Observations:\n",
    "\n",
    "One product id #6534178 had substantially more sales value than any other product.  The sales value was over 400,000, while most others in the top 10 were under 25,000. \n",
    "\n",
    "The product with the highest value is right skewing the data causing the average to be 65,508 while the median is just 23,793."
   ]
  },
  {
   "cell_type": "code",
   "execution_count": 77,
   "id": "b1acc990",
   "metadata": {},
   "outputs": [],
   "source": [
    "Sent_open = 'The discount rate for the top 10 products is'\n",
    "Sent_high = 'This is higher than the average discount of'\n",
    "Sent_low = 'is lower than the average discount of'\n",
    "Sent_end = 'for all products.'"
   ]
  },
  {
   "cell_type": "code",
   "execution_count": 78,
   "id": "d09ad840",
   "metadata": {},
   "outputs": [
    {
     "name": "stdout",
     "output_type": "stream",
     "text": [
      "The discount rate for the top 10 products is -0.1033.  This is higher than the average discount of -0.1768 for all products.\n"
     ]
    }
   ],
   "source": [
    "#Discount rate of top 10 products\n",
    "disc_rate_top_10 = (\n",
    "    (df\n",
    "    .query('PRODUCT_ID in @top_10_products.index')\n",
    "    .loc[:, 'TOTAL_DISC']\n",
    "    .sum())\n",
    "    /(df\n",
    "    .query('PRODUCT_ID in @top_10_products.index')\n",
    "    .loc[:, 'SALES_VALUE']\n",
    "    .sum())).round(4)\n",
    "\n",
    "\n",
    "# Compare discount rate of top 10 products to the overall discount rate\n",
    "\n",
    "if (disc_rate_top_10) > overall_perc_disc:\n",
    "    print(f'{Sent_open} {disc_rate_top_10}.  {Sent_high} {overall_perc_disc} {Sent_end}')\n",
    "else:\n",
    "    print(f'{Sent_open} {disc_rate_top_10}.  {Sent_low} {overall_perc_disc} {Sent_end}')"
   ]
  },
  {
   "cell_type": "code",
   "execution_count": 79,
   "id": "c9f6bd41",
   "metadata": {},
   "outputs": [
    {
     "name": "stdout",
     "output_type": "stream",
     "text": [
      "Product ID of Top 10 Household Products \n",
      "\n",
      "1082185\n",
      "1029743\n",
      "6534178\n",
      "6533889\n",
      "1127831\n",
      "951590\n",
      "860776\n",
      "1106523\n",
      "981760\n",
      "9677202\n"
     ]
    }
   ],
   "source": [
    "# Top 10 household products by product id\n",
    "top_household_products = (df\n",
    "                         .query(\"household_key in @top_10_values.index\")\n",
    "                         .loc[:,'PRODUCT_ID']\n",
    "                         .value_counts()\n",
    "                         .iloc[:10]\n",
    "                         .index)\n",
    "\n",
    "print('Product ID of Top 10 Household Products \\n', *top_household_products, sep = '\\n')"
   ]
  },
  {
   "cell_type": "code",
   "execution_count": 80,
   "id": "a0b3c14d",
   "metadata": {},
   "outputs": [
    {
     "data": {
      "text/html": [
       "<div>\n",
       "<style scoped>\n",
       "    .dataframe tbody tr th:only-of-type {\n",
       "        vertical-align: middle;\n",
       "    }\n",
       "\n",
       "    .dataframe tbody tr th {\n",
       "        vertical-align: top;\n",
       "    }\n",
       "\n",
       "    .dataframe thead th {\n",
       "        text-align: right;\n",
       "    }\n",
       "</style>\n",
       "<table border=\"1\" class=\"dataframe\">\n",
       "  <thead>\n",
       "    <tr style=\"text-align: right;\">\n",
       "      <th></th>\n",
       "      <th>PRODUCT_ID</th>\n",
       "      <th>MANUFACTURER</th>\n",
       "      <th>DEPARTMENT</th>\n",
       "      <th>BRAND</th>\n",
       "      <th>COMMODITY_DESC</th>\n",
       "      <th>SUB_COMMODITY_DESC</th>\n",
       "      <th>CURR_SIZE_OF_PRODUCT</th>\n",
       "    </tr>\n",
       "  </thead>\n",
       "  <tbody>\n",
       "    <tr>\n",
       "      <th>10630</th>\n",
       "      <td>860776</td>\n",
       "      <td>2</td>\n",
       "      <td>PRODUCE</td>\n",
       "      <td>National</td>\n",
       "      <td>VEGETABLES - ALL OTHERS</td>\n",
       "      <td>CUCUMBERS</td>\n",
       "      <td>36 CT</td>\n",
       "    </tr>\n",
       "    <tr>\n",
       "      <th>20973</th>\n",
       "      <td>951590</td>\n",
       "      <td>910</td>\n",
       "      <td>GROCERY</td>\n",
       "      <td>National</td>\n",
       "      <td>BAKED BREAD/BUNS/ROLLS</td>\n",
       "      <td>MAINSTREAM WHITE BREAD</td>\n",
       "      <td>20 OZ</td>\n",
       "    </tr>\n",
       "    <tr>\n",
       "      <th>24250</th>\n",
       "      <td>981760</td>\n",
       "      <td>69</td>\n",
       "      <td>GROCERY</td>\n",
       "      <td>Private</td>\n",
       "      <td>EGGS</td>\n",
       "      <td>EGGS - X-LARGE</td>\n",
       "      <td>1 DZ</td>\n",
       "    </tr>\n",
       "    <tr>\n",
       "      <th>29657</th>\n",
       "      <td>1029743</td>\n",
       "      <td>69</td>\n",
       "      <td>GROCERY</td>\n",
       "      <td>Private</td>\n",
       "      <td>FLUID MILK PRODUCTS</td>\n",
       "      <td>FLUID MILK WHITE ONLY</td>\n",
       "      <td>1 GA</td>\n",
       "    </tr>\n",
       "    <tr>\n",
       "      <th>35576</th>\n",
       "      <td>1082185</td>\n",
       "      <td>2</td>\n",
       "      <td>PRODUCE</td>\n",
       "      <td>National</td>\n",
       "      <td>TROPICAL FRUIT</td>\n",
       "      <td>BANANAS</td>\n",
       "      <td>40 LB</td>\n",
       "    </tr>\n",
       "    <tr>\n",
       "      <th>38262</th>\n",
       "      <td>1106523</td>\n",
       "      <td>69</td>\n",
       "      <td>GROCERY</td>\n",
       "      <td>Private</td>\n",
       "      <td>FLUID MILK PRODUCTS</td>\n",
       "      <td>FLUID MILK WHITE ONLY</td>\n",
       "      <td>1 GA</td>\n",
       "    </tr>\n",
       "    <tr>\n",
       "      <th>40600</th>\n",
       "      <td>1127831</td>\n",
       "      <td>5937</td>\n",
       "      <td>PRODUCE</td>\n",
       "      <td>National</td>\n",
       "      <td>BERRIES</td>\n",
       "      <td>STRAWBERRIES</td>\n",
       "      <td>16 OZ</td>\n",
       "    </tr>\n",
       "    <tr>\n",
       "      <th>57181</th>\n",
       "      <td>6533889</td>\n",
       "      <td>69</td>\n",
       "      <td>MISC SALES TRAN</td>\n",
       "      <td>Private</td>\n",
       "      <td>COUPON/MISC ITEMS</td>\n",
       "      <td>GASOLINE-REG UNLEADED</td>\n",
       "      <td></td>\n",
       "    </tr>\n",
       "    <tr>\n",
       "      <th>57221</th>\n",
       "      <td>6534178</td>\n",
       "      <td>69</td>\n",
       "      <td>KIOSK-GAS</td>\n",
       "      <td>Private</td>\n",
       "      <td>COUPON/MISC ITEMS</td>\n",
       "      <td>GASOLINE-REG UNLEADED</td>\n",
       "      <td></td>\n",
       "    </tr>\n",
       "    <tr>\n",
       "      <th>68952</th>\n",
       "      <td>9677202</td>\n",
       "      <td>69</td>\n",
       "      <td>GROCERY</td>\n",
       "      <td>Private</td>\n",
       "      <td>PAPER TOWELS</td>\n",
       "      <td>PAPER TOWELS &amp; HOLDERS</td>\n",
       "      <td></td>\n",
       "    </tr>\n",
       "  </tbody>\n",
       "</table>\n",
       "</div>"
      ],
      "text/plain": [
       "       PRODUCT_ID  MANUFACTURER       DEPARTMENT     BRAND  \\\n",
       "10630      860776             2          PRODUCE  National   \n",
       "20973      951590           910          GROCERY  National   \n",
       "24250      981760            69          GROCERY   Private   \n",
       "29657     1029743            69          GROCERY   Private   \n",
       "35576     1082185             2          PRODUCE  National   \n",
       "38262     1106523            69          GROCERY   Private   \n",
       "40600     1127831          5937          PRODUCE  National   \n",
       "57181     6533889            69  MISC SALES TRAN   Private   \n",
       "57221     6534178            69        KIOSK-GAS   Private   \n",
       "68952     9677202            69          GROCERY   Private   \n",
       "\n",
       "                COMMODITY_DESC      SUB_COMMODITY_DESC CURR_SIZE_OF_PRODUCT  \n",
       "10630  VEGETABLES - ALL OTHERS               CUCUMBERS                36 CT  \n",
       "20973   BAKED BREAD/BUNS/ROLLS  MAINSTREAM WHITE BREAD                20 OZ  \n",
       "24250                     EGGS          EGGS - X-LARGE                 1 DZ  \n",
       "29657      FLUID MILK PRODUCTS   FLUID MILK WHITE ONLY                 1 GA  \n",
       "35576           TROPICAL FRUIT                 BANANAS                40 LB  \n",
       "38262      FLUID MILK PRODUCTS   FLUID MILK WHITE ONLY                 1 GA  \n",
       "40600                  BERRIES            STRAWBERRIES                16 OZ  \n",
       "57181        COUPON/MISC ITEMS   GASOLINE-REG UNLEADED                       \n",
       "57221        COUPON/MISC ITEMS   GASOLINE-REG UNLEADED                       \n",
       "68952             PAPER TOWELS  PAPER TOWELS & HOLDERS                       "
      ]
     },
     "execution_count": 80,
     "metadata": {},
     "output_type": "execute_result"
    }
   ],
   "source": [
    "#Query the value of the product id in top household products to find description of the product\n",
    "products.query(\"PRODUCT_ID in @top_household_products\")"
   ]
  },
  {
   "cell_type": "markdown",
   "id": "17a1e7bb",
   "metadata": {},
   "source": [
    "### Observations:\n",
    "\n",
    "The products in the top 10 products appear to be mostly staple items like eggs, white bread, milk, paper towels, gasoline.  Staple are not likely to need a discount unless they are about to perish because they are often purchased without any incentive. "
   ]
  },
  {
   "cell_type": "code",
   "execution_count": 81,
   "id": "e49a9f7f",
   "metadata": {},
   "outputs": [
    {
     "data": {
      "text/html": [
       "<div>\n",
       "<style scoped>\n",
       "    .dataframe tbody tr th:only-of-type {\n",
       "        vertical-align: middle;\n",
       "    }\n",
       "\n",
       "    .dataframe tbody tr th {\n",
       "        vertical-align: top;\n",
       "    }\n",
       "\n",
       "    .dataframe thead th {\n",
       "        text-align: right;\n",
       "    }\n",
       "</style>\n",
       "<table border=\"1\" class=\"dataframe\">\n",
       "  <thead>\n",
       "    <tr style=\"text-align: right;\">\n",
       "      <th></th>\n",
       "      <th>PRODUCT_ID</th>\n",
       "      <th>MANUFACTURER</th>\n",
       "      <th>DEPARTMENT</th>\n",
       "      <th>BRAND</th>\n",
       "      <th>COMMODITY_DESC</th>\n",
       "      <th>SUB_COMMODITY_DESC</th>\n",
       "      <th>CURR_SIZE_OF_PRODUCT</th>\n",
       "    </tr>\n",
       "  </thead>\n",
       "  <tbody>\n",
       "    <tr>\n",
       "      <th>57221</th>\n",
       "      <td>6534178</td>\n",
       "      <td>69</td>\n",
       "      <td>KIOSK-GAS</td>\n",
       "      <td>Private</td>\n",
       "      <td>COUPON/MISC ITEMS</td>\n",
       "      <td>GASOLINE-REG UNLEADED</td>\n",
       "      <td></td>\n",
       "    </tr>\n",
       "  </tbody>\n",
       "</table>\n",
       "</div>"
      ],
      "text/plain": [
       "       PRODUCT_ID  MANUFACTURER DEPARTMENT    BRAND     COMMODITY_DESC  \\\n",
       "57221     6534178            69  KIOSK-GAS  Private  COUPON/MISC ITEMS   \n",
       "\n",
       "          SUB_COMMODITY_DESC CURR_SIZE_OF_PRODUCT  \n",
       "57221  GASOLINE-REG UNLEADED                       "
      ]
     },
     "execution_count": 81,
     "metadata": {},
     "output_type": "execute_result"
    }
   ],
   "source": [
    "#Query the product with the highest quantity in a single row\n",
    "products.query(\"PRODUCT_ID == 6534178\")"
   ]
  },
  {
   "cell_type": "markdown",
   "id": "89f77a96",
   "metadata": {},
   "source": [
    "### Observations:\n",
    "\n",
    "The product with the highest sales value in a single row (ID 6534178) is gasoline which outsold all other products. "
   ]
  },
  {
   "cell_type": "code",
   "execution_count": 82,
   "id": "5fb395eb",
   "metadata": {},
   "outputs": [
    {
     "data": {
      "text/html": [
       "<div>\n",
       "<style scoped>\n",
       "    .dataframe tbody tr th:only-of-type {\n",
       "        vertical-align: middle;\n",
       "    }\n",
       "\n",
       "    .dataframe tbody tr th {\n",
       "        vertical-align: top;\n",
       "    }\n",
       "\n",
       "    .dataframe thead th {\n",
       "        text-align: right;\n",
       "    }\n",
       "</style>\n",
       "<table border=\"1\" class=\"dataframe\">\n",
       "  <thead>\n",
       "    <tr style=\"text-align: right;\">\n",
       "      <th></th>\n",
       "      <th>PRODUCT_ID</th>\n",
       "      <th>MANUFACTURER</th>\n",
       "      <th>DEPARTMENT</th>\n",
       "      <th>BRAND</th>\n",
       "      <th>COMMODITY_DESC</th>\n",
       "      <th>SUB_COMMODITY_DESC</th>\n",
       "      <th>CURR_SIZE_OF_PRODUCT</th>\n",
       "    </tr>\n",
       "  </thead>\n",
       "  <tbody>\n",
       "    <tr>\n",
       "      <th>16863</th>\n",
       "      <td>916122</td>\n",
       "      <td>4314</td>\n",
       "      <td>MEAT</td>\n",
       "      <td>National</td>\n",
       "      <td>CHICKEN</td>\n",
       "      <td>CHICKEN BREAST BONELESS</td>\n",
       "      <td></td>\n",
       "    </tr>\n",
       "    <tr>\n",
       "      <th>25754</th>\n",
       "      <td>995242</td>\n",
       "      <td>69</td>\n",
       "      <td>GROCERY</td>\n",
       "      <td>Private</td>\n",
       "      <td>FLUID MILK PRODUCTS</td>\n",
       "      <td>FLUID MILK WHITE ONLY</td>\n",
       "      <td></td>\n",
       "    </tr>\n",
       "    <tr>\n",
       "      <th>29657</th>\n",
       "      <td>1029743</td>\n",
       "      <td>69</td>\n",
       "      <td>GROCERY</td>\n",
       "      <td>Private</td>\n",
       "      <td>FLUID MILK PRODUCTS</td>\n",
       "      <td>FLUID MILK WHITE ONLY</td>\n",
       "      <td>1 GA</td>\n",
       "    </tr>\n",
       "    <tr>\n",
       "      <th>35576</th>\n",
       "      <td>1082185</td>\n",
       "      <td>2</td>\n",
       "      <td>PRODUCE</td>\n",
       "      <td>National</td>\n",
       "      <td>TROPICAL FRUIT</td>\n",
       "      <td>BANANAS</td>\n",
       "      <td>40 LB</td>\n",
       "    </tr>\n",
       "    <tr>\n",
       "      <th>38262</th>\n",
       "      <td>1106523</td>\n",
       "      <td>69</td>\n",
       "      <td>GROCERY</td>\n",
       "      <td>Private</td>\n",
       "      <td>FLUID MILK PRODUCTS</td>\n",
       "      <td>FLUID MILK WHITE ONLY</td>\n",
       "      <td>1 GA</td>\n",
       "    </tr>\n",
       "    <tr>\n",
       "      <th>53097</th>\n",
       "      <td>5569230</td>\n",
       "      <td>1208</td>\n",
       "      <td>GROCERY</td>\n",
       "      <td>National</td>\n",
       "      <td>SOFT DRINKS</td>\n",
       "      <td>SOFT DRINKS 12/18&amp;15PK CAN CAR</td>\n",
       "      <td>12 OZ</td>\n",
       "    </tr>\n",
       "    <tr>\n",
       "      <th>57171</th>\n",
       "      <td>6533765</td>\n",
       "      <td>69</td>\n",
       "      <td>KIOSK-GAS</td>\n",
       "      <td>Private</td>\n",
       "      <td>FUEL</td>\n",
       "      <td>GASOLINE-REG UNLEADED</td>\n",
       "      <td></td>\n",
       "    </tr>\n",
       "    <tr>\n",
       "      <th>57181</th>\n",
       "      <td>6533889</td>\n",
       "      <td>69</td>\n",
       "      <td>MISC SALES TRAN</td>\n",
       "      <td>Private</td>\n",
       "      <td>COUPON/MISC ITEMS</td>\n",
       "      <td>GASOLINE-REG UNLEADED</td>\n",
       "      <td></td>\n",
       "    </tr>\n",
       "    <tr>\n",
       "      <th>57216</th>\n",
       "      <td>6534166</td>\n",
       "      <td>69</td>\n",
       "      <td>MISC SALES TRAN</td>\n",
       "      <td>Private</td>\n",
       "      <td>COUPON/MISC ITEMS</td>\n",
       "      <td>GASOLINE-REG UNLEADED</td>\n",
       "      <td></td>\n",
       "    </tr>\n",
       "    <tr>\n",
       "      <th>57221</th>\n",
       "      <td>6534178</td>\n",
       "      <td>69</td>\n",
       "      <td>KIOSK-GAS</td>\n",
       "      <td>Private</td>\n",
       "      <td>COUPON/MISC ITEMS</td>\n",
       "      <td>GASOLINE-REG UNLEADED</td>\n",
       "      <td></td>\n",
       "    </tr>\n",
       "  </tbody>\n",
       "</table>\n",
       "</div>"
      ],
      "text/plain": [
       "       PRODUCT_ID  MANUFACTURER       DEPARTMENT     BRAND  \\\n",
       "16863      916122          4314             MEAT  National   \n",
       "25754      995242            69          GROCERY   Private   \n",
       "29657     1029743            69          GROCERY   Private   \n",
       "35576     1082185             2          PRODUCE  National   \n",
       "38262     1106523            69          GROCERY   Private   \n",
       "53097     5569230          1208          GROCERY  National   \n",
       "57171     6533765            69        KIOSK-GAS   Private   \n",
       "57181     6533889            69  MISC SALES TRAN   Private   \n",
       "57216     6534166            69  MISC SALES TRAN   Private   \n",
       "57221     6534178            69        KIOSK-GAS   Private   \n",
       "\n",
       "            COMMODITY_DESC              SUB_COMMODITY_DESC  \\\n",
       "16863              CHICKEN         CHICKEN BREAST BONELESS   \n",
       "25754  FLUID MILK PRODUCTS           FLUID MILK WHITE ONLY   \n",
       "29657  FLUID MILK PRODUCTS           FLUID MILK WHITE ONLY   \n",
       "35576       TROPICAL FRUIT                         BANANAS   \n",
       "38262  FLUID MILK PRODUCTS           FLUID MILK WHITE ONLY   \n",
       "53097          SOFT DRINKS  SOFT DRINKS 12/18&15PK CAN CAR   \n",
       "57171                 FUEL           GASOLINE-REG UNLEADED   \n",
       "57181    COUPON/MISC ITEMS           GASOLINE-REG UNLEADED   \n",
       "57216    COUPON/MISC ITEMS           GASOLINE-REG UNLEADED   \n",
       "57221    COUPON/MISC ITEMS           GASOLINE-REG UNLEADED   \n",
       "\n",
       "      CURR_SIZE_OF_PRODUCT  \n",
       "16863                       \n",
       "25754                       \n",
       "29657                 1 GA  \n",
       "35576                40 LB  \n",
       "38262                 1 GA  \n",
       "53097                12 OZ  \n",
       "57171                       \n",
       "57181                       \n",
       "57216                       \n",
       "57221                       "
      ]
     },
     "execution_count": 82,
     "metadata": {},
     "output_type": "execute_result"
    }
   ],
   "source": [
    "products.query(\"PRODUCT_ID in @top_10_products.index\")"
   ]
  },
  {
   "cell_type": "markdown",
   "id": "75f47c4a",
   "metadata": {},
   "source": [
    "### Observations:\n",
    "\n",
    "The products showing up most often in top 10 products and household products are gasoline and milk.  Households appear to value these stores for key staple items."
   ]
  },
  {
   "cell_type": "markdown",
   "id": "590a0f51",
   "metadata": {},
   "source": [
    "### Conclusions:\n",
    "\n",
    "These stores have many repeat customers which may indicate that customers like this store or there are not convenient or affordable alternatives.  More information is needed about competitors.\n",
    "\n",
    "These stores gain much of their revenue from staple items like milk, bread, and gasoline. This has value since staples often form a defensive product line during economic downturns.\n",
    "\n",
    "Staple products sold at these stores are not as reliant on discounts as other products which are sold with higher discount rates.\n",
    "\n",
    "Many of the top products at these stores are perishable items. Consistent turnover of these products is necessary to avoid losses.  This may at times require discounting but still appears to be less than the average discount.\n",
    "\n",
    "The average price per product is under 5 dollars, so high volume is necessary to achieve high revenue.  Analysis on profit margin per product would provide additional insight.\n",
    "\n",
    "The majority of sales revenue appears to come from a small number of stores. More information is needed about non-performing stores.\n",
    "\n",
    "Gasoline is one of the top selling products at these stores.  This may work well now but performance projections more than 5 years out may need additional consideration of changing consumer preferences for electric vehicles.\n",
    "\n",
    "The data only included information about store revenue.  To form a more complete picture of how the stores perform, cost would also need to be analyzed.\n",
    "\n"
   ]
  },
  {
   "cell_type": "code",
   "execution_count": null,
   "id": "f646326d",
   "metadata": {},
   "outputs": [],
   "source": []
  }
 ],
 "metadata": {
  "kernelspec": {
   "display_name": "Python 3 (ipykernel)",
   "language": "python",
   "name": "python3"
  },
  "language_info": {
   "codemirror_mode": {
    "name": "ipython",
    "version": 3
   },
   "file_extension": ".py",
   "mimetype": "text/x-python",
   "name": "python",
   "nbconvert_exporter": "python",
   "pygments_lexer": "ipython3",
   "version": "3.9.7"
  }
 },
 "nbformat": 4,
 "nbformat_minor": 5
}
